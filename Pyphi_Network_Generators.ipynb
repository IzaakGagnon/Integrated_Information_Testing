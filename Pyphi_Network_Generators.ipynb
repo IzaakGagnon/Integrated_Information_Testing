{
  "nbformat": 4,
  "nbformat_minor": 0,
  "metadata": {
    "colab": {
      "provenance": [],
      "authorship_tag": "ABX9TyNYwc+ej6XroxkUrhmDd3yr",
      "include_colab_link": true
    },
    "kernelspec": {
      "name": "python3",
      "display_name": "Python 3"
    },
    "language_info": {
      "name": "python"
    }
  },
  "cells": [
    {
      "cell_type": "markdown",
      "metadata": {
        "id": "view-in-github",
        "colab_type": "text"
      },
      "source": [
        "<a href=\"https://colab.research.google.com/github/IzaakGagnon/Integrated_Information_Testing/blob/Generators/Pyphi_Network_Generators.ipynb\" target=\"_parent\"><img src=\"https://colab.research.google.com/assets/colab-badge.svg\" alt=\"Open In Colab\"/></a>"
      ]
    },
    {
      "cell_type": "markdown",
      "source": [
        "# Network Generation Functions for Pyphi"
      ],
      "metadata": {
        "id": "QBFrjw4Z4RMC"
      }
    },
    {
      "cell_type": "code",
      "execution_count": 3,
      "metadata": {
        "colab": {
          "base_uri": "https://localhost:8080/"
        },
        "id": "vSG0Z8s9xvCW",
        "outputId": "0f2ab972-26f6-4374-c4c9-a9e5775bba2d"
      },
      "outputs": [
        {
          "output_type": "stream",
          "name": "stdout",
          "text": [
            "Collecting git+https://github.com/wmayner/pyphi.git@feature/iit-4.0\n",
            "  Cloning https://github.com/wmayner/pyphi.git (to revision feature/iit-4.0) to /tmp/pip-req-build-6s4me6ic\n",
            "  Running command git clone --filter=blob:none --quiet https://github.com/wmayner/pyphi.git /tmp/pip-req-build-6s4me6ic\n",
            "  Resolved https://github.com/wmayner/pyphi.git to commit 6b83cbdbbcdca75289415fe096adbac5f2ec7a4d\n",
            "  Installing build dependencies ... \u001b[?25l\u001b[?25hdone\n",
            "  Getting requirements to build wheel ... \u001b[?25l\u001b[?25hdone\n",
            "  Preparing metadata (pyproject.toml) ... \u001b[?25l\u001b[?25hdone\n",
            "Requirement already satisfied: Graphillion>=1.5 in /usr/local/lib/python3.10/dist-packages (from pyphi==1.2.0) (1.7)\n",
            "Requirement already satisfied: igraph>=0.9.10 in /usr/local/lib/python3.10/dist-packages (from pyphi==1.2.0) (0.11.5)\n",
            "Requirement already satisfied: joblib>=0.8.0 in /usr/local/lib/python3.10/dist-packages (from pyphi==1.2.0) (1.4.2)\n",
            "Requirement already satisfied: more-itertools>=8.13.0 in /usr/local/lib/python3.10/dist-packages (from pyphi==1.2.0) (10.1.0)\n",
            "Requirement already satisfied: networkx>=2.6.2 in /usr/local/lib/python3.10/dist-packages (from pyphi==1.2.0) (3.3)\n",
            "Requirement already satisfied: numpy>=1.11.0 in /usr/local/lib/python3.10/dist-packages (from pyphi==1.2.0) (1.25.2)\n",
            "Requirement already satisfied: ordered-set>=4.0.2 in /usr/local/lib/python3.10/dist-packages (from pyphi==1.2.0) (4.1.0)\n",
            "Requirement already satisfied: pandas>=2.0.0 in /usr/local/lib/python3.10/dist-packages (from pyphi==1.2.0) (2.0.3)\n",
            "Requirement already satisfied: plotly>=5.8.2 in /usr/local/lib/python3.10/dist-packages (from pyphi==1.2.0) (5.15.0)\n",
            "Requirement already satisfied: psutil>=2.1.1 in /usr/local/lib/python3.10/dist-packages (from pyphi==1.2.0) (5.9.5)\n",
            "Requirement already satisfied: pyemd>=0.3.0 in /usr/local/lib/python3.10/dist-packages (from pyphi==1.2.0) (1.0.0)\n",
            "Requirement already satisfied: pyyaml>=3.13 in /usr/local/lib/python3.10/dist-packages (from pyphi==1.2.0) (6.0.1)\n",
            "Requirement already satisfied: ray[default]>=1.9.2 in /usr/local/lib/python3.10/dist-packages (from pyphi==1.2.0) (2.21.0)\n",
            "Requirement already satisfied: redis>=2.10.5 in /usr/local/lib/python3.10/dist-packages (from pyphi==1.2.0) (5.0.4)\n",
            "Requirement already satisfied: scipy>=0.13.3 in /usr/local/lib/python3.10/dist-packages (from pyphi==1.2.0) (1.11.4)\n",
            "Requirement already satisfied: tblib>=1.3.2 in /usr/local/lib/python3.10/dist-packages (from pyphi==1.2.0) (3.0.0)\n",
            "Requirement already satisfied: toolz>=0.9.0 in /usr/local/lib/python3.10/dist-packages (from pyphi==1.2.0) (0.12.1)\n",
            "Requirement already satisfied: tqdm>=4.20.0 in /usr/local/lib/python3.10/dist-packages (from pyphi==1.2.0) (4.66.4)\n",
            "Requirement already satisfied: future in /usr/local/lib/python3.10/dist-packages (from Graphillion>=1.5->pyphi==1.2.0) (0.18.3)\n",
            "Requirement already satisfied: texttable>=1.6.2 in /usr/local/lib/python3.10/dist-packages (from igraph>=0.9.10->pyphi==1.2.0) (1.7.0)\n",
            "Requirement already satisfied: python-dateutil>=2.8.2 in /usr/local/lib/python3.10/dist-packages (from pandas>=2.0.0->pyphi==1.2.0) (2.8.2)\n",
            "Requirement already satisfied: pytz>=2020.1 in /usr/local/lib/python3.10/dist-packages (from pandas>=2.0.0->pyphi==1.2.0) (2023.4)\n",
            "Requirement already satisfied: tzdata>=2022.1 in /usr/local/lib/python3.10/dist-packages (from pandas>=2.0.0->pyphi==1.2.0) (2024.1)\n",
            "Requirement already satisfied: tenacity>=6.2.0 in /usr/local/lib/python3.10/dist-packages (from plotly>=5.8.2->pyphi==1.2.0) (8.3.0)\n",
            "Requirement already satisfied: packaging in /usr/local/lib/python3.10/dist-packages (from plotly>=5.8.2->pyphi==1.2.0) (24.0)\n",
            "Requirement already satisfied: click>=7.0 in /usr/local/lib/python3.10/dist-packages (from ray[default]>=1.9.2->pyphi==1.2.0) (8.1.7)\n",
            "Requirement already satisfied: filelock in /usr/local/lib/python3.10/dist-packages (from ray[default]>=1.9.2->pyphi==1.2.0) (3.14.0)\n",
            "Requirement already satisfied: jsonschema in /usr/local/lib/python3.10/dist-packages (from ray[default]>=1.9.2->pyphi==1.2.0) (4.19.2)\n",
            "Requirement already satisfied: msgpack<2.0.0,>=1.0.0 in /usr/local/lib/python3.10/dist-packages (from ray[default]>=1.9.2->pyphi==1.2.0) (1.0.8)\n",
            "Requirement already satisfied: protobuf!=3.19.5,>=3.15.3 in /usr/local/lib/python3.10/dist-packages (from ray[default]>=1.9.2->pyphi==1.2.0) (3.20.3)\n",
            "Requirement already satisfied: aiosignal in /usr/local/lib/python3.10/dist-packages (from ray[default]>=1.9.2->pyphi==1.2.0) (1.3.1)\n",
            "Requirement already satisfied: frozenlist in /usr/local/lib/python3.10/dist-packages (from ray[default]>=1.9.2->pyphi==1.2.0) (1.4.1)\n",
            "Requirement already satisfied: requests in /usr/local/lib/python3.10/dist-packages (from ray[default]>=1.9.2->pyphi==1.2.0) (2.31.0)\n",
            "Requirement already satisfied: aiohttp>=3.7 in /usr/local/lib/python3.10/dist-packages (from ray[default]>=1.9.2->pyphi==1.2.0) (3.9.5)\n",
            "Requirement already satisfied: aiohttp-cors in /usr/local/lib/python3.10/dist-packages (from ray[default]>=1.9.2->pyphi==1.2.0) (0.7.0)\n",
            "Requirement already satisfied: colorful in /usr/local/lib/python3.10/dist-packages (from ray[default]>=1.9.2->pyphi==1.2.0) (0.5.6)\n",
            "Requirement already satisfied: py-spy>=0.2.0 in /usr/local/lib/python3.10/dist-packages (from ray[default]>=1.9.2->pyphi==1.2.0) (0.3.14)\n",
            "Requirement already satisfied: opencensus in /usr/local/lib/python3.10/dist-packages (from ray[default]>=1.9.2->pyphi==1.2.0) (0.11.4)\n",
            "Requirement already satisfied: pydantic!=2.0.*,!=2.1.*,!=2.2.*,!=2.3.*,!=2.4.*,<3 in /usr/local/lib/python3.10/dist-packages (from ray[default]>=1.9.2->pyphi==1.2.0) (2.7.1)\n",
            "Requirement already satisfied: prometheus-client>=0.7.1 in /usr/local/lib/python3.10/dist-packages (from ray[default]>=1.9.2->pyphi==1.2.0) (0.20.0)\n",
            "Requirement already satisfied: smart-open in /usr/local/lib/python3.10/dist-packages (from ray[default]>=1.9.2->pyphi==1.2.0) (6.4.0)\n",
            "Requirement already satisfied: virtualenv!=20.21.1,>=20.0.24 in /usr/local/lib/python3.10/dist-packages (from ray[default]>=1.9.2->pyphi==1.2.0) (20.26.1)\n",
            "Requirement already satisfied: grpcio>=1.42.0 in /usr/local/lib/python3.10/dist-packages (from ray[default]>=1.9.2->pyphi==1.2.0) (1.63.0)\n",
            "Requirement already satisfied: memray in /usr/local/lib/python3.10/dist-packages (from ray[default]>=1.9.2->pyphi==1.2.0) (1.12.0)\n",
            "Requirement already satisfied: async-timeout>=4.0.3 in /usr/local/lib/python3.10/dist-packages (from redis>=2.10.5->pyphi==1.2.0) (4.0.3)\n",
            "Requirement already satisfied: attrs>=17.3.0 in /usr/local/lib/python3.10/dist-packages (from aiohttp>=3.7->ray[default]>=1.9.2->pyphi==1.2.0) (23.2.0)\n",
            "Requirement already satisfied: multidict<7.0,>=4.5 in /usr/local/lib/python3.10/dist-packages (from aiohttp>=3.7->ray[default]>=1.9.2->pyphi==1.2.0) (6.0.5)\n",
            "Requirement already satisfied: yarl<2.0,>=1.0 in /usr/local/lib/python3.10/dist-packages (from aiohttp>=3.7->ray[default]>=1.9.2->pyphi==1.2.0) (1.9.4)\n",
            "Requirement already satisfied: annotated-types>=0.4.0 in /usr/local/lib/python3.10/dist-packages (from pydantic!=2.0.*,!=2.1.*,!=2.2.*,!=2.3.*,!=2.4.*,<3->ray[default]>=1.9.2->pyphi==1.2.0) (0.6.0)\n",
            "Requirement already satisfied: pydantic-core==2.18.2 in /usr/local/lib/python3.10/dist-packages (from pydantic!=2.0.*,!=2.1.*,!=2.2.*,!=2.3.*,!=2.4.*,<3->ray[default]>=1.9.2->pyphi==1.2.0) (2.18.2)\n",
            "Requirement already satisfied: typing-extensions>=4.6.1 in /usr/local/lib/python3.10/dist-packages (from pydantic!=2.0.*,!=2.1.*,!=2.2.*,!=2.3.*,!=2.4.*,<3->ray[default]>=1.9.2->pyphi==1.2.0) (4.11.0)\n",
            "Requirement already satisfied: six>=1.5 in /usr/local/lib/python3.10/dist-packages (from python-dateutil>=2.8.2->pandas>=2.0.0->pyphi==1.2.0) (1.16.0)\n",
            "Requirement already satisfied: distlib<1,>=0.3.7 in /usr/local/lib/python3.10/dist-packages (from virtualenv!=20.21.1,>=20.0.24->ray[default]>=1.9.2->pyphi==1.2.0) (0.3.8)\n",
            "Requirement already satisfied: platformdirs<5,>=3.9.1 in /usr/local/lib/python3.10/dist-packages (from virtualenv!=20.21.1,>=20.0.24->ray[default]>=1.9.2->pyphi==1.2.0) (4.2.1)\n",
            "Requirement already satisfied: jsonschema-specifications>=2023.03.6 in /usr/local/lib/python3.10/dist-packages (from jsonschema->ray[default]>=1.9.2->pyphi==1.2.0) (2023.12.1)\n",
            "Requirement already satisfied: referencing>=0.28.4 in /usr/local/lib/python3.10/dist-packages (from jsonschema->ray[default]>=1.9.2->pyphi==1.2.0) (0.35.1)\n",
            "Requirement already satisfied: rpds-py>=0.7.1 in /usr/local/lib/python3.10/dist-packages (from jsonschema->ray[default]>=1.9.2->pyphi==1.2.0) (0.18.1)\n",
            "Requirement already satisfied: jinja2>=2.9 in /usr/local/lib/python3.10/dist-packages (from memray->ray[default]>=1.9.2->pyphi==1.2.0) (3.1.4)\n",
            "Requirement already satisfied: rich>=11.2.0 in /usr/local/lib/python3.10/dist-packages (from memray->ray[default]>=1.9.2->pyphi==1.2.0) (13.7.1)\n",
            "Requirement already satisfied: textual>=0.41.0 in /usr/local/lib/python3.10/dist-packages (from memray->ray[default]>=1.9.2->pyphi==1.2.0) (0.58.1)\n",
            "Requirement already satisfied: opencensus-context>=0.1.3 in /usr/local/lib/python3.10/dist-packages (from opencensus->ray[default]>=1.9.2->pyphi==1.2.0) (0.1.3)\n",
            "Requirement already satisfied: google-api-core<3.0.0,>=1.0.0 in /usr/local/lib/python3.10/dist-packages (from opencensus->ray[default]>=1.9.2->pyphi==1.2.0) (2.11.1)\n",
            "Requirement already satisfied: charset-normalizer<4,>=2 in /usr/local/lib/python3.10/dist-packages (from requests->ray[default]>=1.9.2->pyphi==1.2.0) (3.3.2)\n",
            "Requirement already satisfied: idna<4,>=2.5 in /usr/local/lib/python3.10/dist-packages (from requests->ray[default]>=1.9.2->pyphi==1.2.0) (3.7)\n",
            "Requirement already satisfied: urllib3<3,>=1.21.1 in /usr/local/lib/python3.10/dist-packages (from requests->ray[default]>=1.9.2->pyphi==1.2.0) (2.0.7)\n",
            "Requirement already satisfied: certifi>=2017.4.17 in /usr/local/lib/python3.10/dist-packages (from requests->ray[default]>=1.9.2->pyphi==1.2.0) (2024.2.2)\n",
            "Requirement already satisfied: googleapis-common-protos<2.0.dev0,>=1.56.2 in /usr/local/lib/python3.10/dist-packages (from google-api-core<3.0.0,>=1.0.0->opencensus->ray[default]>=1.9.2->pyphi==1.2.0) (1.63.0)\n",
            "Requirement already satisfied: google-auth<3.0.dev0,>=2.14.1 in /usr/local/lib/python3.10/dist-packages (from google-api-core<3.0.0,>=1.0.0->opencensus->ray[default]>=1.9.2->pyphi==1.2.0) (2.27.0)\n",
            "Requirement already satisfied: MarkupSafe>=2.0 in /usr/local/lib/python3.10/dist-packages (from jinja2>=2.9->memray->ray[default]>=1.9.2->pyphi==1.2.0) (2.1.5)\n",
            "Requirement already satisfied: markdown-it-py>=2.2.0 in /usr/local/lib/python3.10/dist-packages (from rich>=11.2.0->memray->ray[default]>=1.9.2->pyphi==1.2.0) (3.0.0)\n",
            "Requirement already satisfied: pygments<3.0.0,>=2.13.0 in /usr/local/lib/python3.10/dist-packages (from rich>=11.2.0->memray->ray[default]>=1.9.2->pyphi==1.2.0) (2.16.1)\n",
            "Requirement already satisfied: cachetools<6.0,>=2.0.0 in /usr/local/lib/python3.10/dist-packages (from google-auth<3.0.dev0,>=2.14.1->google-api-core<3.0.0,>=1.0.0->opencensus->ray[default]>=1.9.2->pyphi==1.2.0) (5.3.3)\n",
            "Requirement already satisfied: pyasn1-modules>=0.2.1 in /usr/local/lib/python3.10/dist-packages (from google-auth<3.0.dev0,>=2.14.1->google-api-core<3.0.0,>=1.0.0->opencensus->ray[default]>=1.9.2->pyphi==1.2.0) (0.4.0)\n",
            "Requirement already satisfied: rsa<5,>=3.1.4 in /usr/local/lib/python3.10/dist-packages (from google-auth<3.0.dev0,>=2.14.1->google-api-core<3.0.0,>=1.0.0->opencensus->ray[default]>=1.9.2->pyphi==1.2.0) (4.9)\n",
            "Requirement already satisfied: mdurl~=0.1 in /usr/local/lib/python3.10/dist-packages (from markdown-it-py>=2.2.0->rich>=11.2.0->memray->ray[default]>=1.9.2->pyphi==1.2.0) (0.1.2)\n",
            "Requirement already satisfied: mdit-py-plugins in /usr/local/lib/python3.10/dist-packages (from markdown-it-py>=2.2.0->rich>=11.2.0->memray->ray[default]>=1.9.2->pyphi==1.2.0) (0.4.0)\n",
            "Requirement already satisfied: linkify-it-py<3,>=1 in /usr/local/lib/python3.10/dist-packages (from markdown-it-py>=2.2.0->rich>=11.2.0->memray->ray[default]>=1.9.2->pyphi==1.2.0) (2.0.3)\n",
            "Requirement already satisfied: uc-micro-py in /usr/local/lib/python3.10/dist-packages (from linkify-it-py<3,>=1->markdown-it-py>=2.2.0->rich>=11.2.0->memray->ray[default]>=1.9.2->pyphi==1.2.0) (1.0.3)\n",
            "Requirement already satisfied: pyasn1<0.7.0,>=0.4.6 in /usr/local/lib/python3.10/dist-packages (from pyasn1-modules>=0.2.1->google-auth<3.0.dev0,>=2.14.1->google-api-core<3.0.0,>=1.0.0->opencensus->ray[default]>=1.9.2->pyphi==1.2.0) (0.6.0)\n"
          ]
        }
      ],
      "source": [
        "!python -m pip install -U git+https://github.com/wmayner/pyphi.git@feature/iit-4.0\n",
        "import numpy as np\n",
        "import pyphi\n",
        "import random\n",
        "pyphi.config.PROGRESS_BARS = False\n",
        "pyphi.config.PARALLEL = False\n",
        "pyphi.config.SHORTCIRCUIT_SIA = False\n",
        "pyphi.config.WELCOME_OFF = True\n",
        "pyphi.config.REPERTOIRE_DISTANCE = \"GENERALIZED_INTRINSIC_DIFFERENCE\""
      ]
    },
    {
      "cell_type": "code",
      "source": [
        "#### NETWORK GENERATING FUNCTIONS\n",
        "def normalize_rows(matrix):\n",
        "    ### Scales probabilities in a matrix so that they satisfy the markov property. Proof that CI still holds not completed yet\n",
        "    num_rows = matrix.shape[0]\n",
        "    normalized_matrix = np.zeros_like(matrix)  # Create an empty matrix of the same shape\n",
        "    for i in range(num_rows):\n",
        "        row = matrix[i, :]\n",
        "        current_sum = np.sum(row)\n",
        "        if current_sum > 0:\n",
        "            scaling_factor = 1.0 / current_sum\n",
        "            normalized_row = row * scaling_factor\n",
        "            normalized_matrix[i, :] = normalized_row\n",
        "        else: print(\"Zero_Sum_Error: Problem With Values Generated\")\n",
        "    return normalized_matrix\n",
        "def create_noisy_network(size):\n",
        "    ### Obtains a random network of nodes of a given size, directly ready for computing Phi.\n",
        "    return pyphi.Network(normalize_rows(pyphi.convert.state_by_node2state_by_state(np.random.rand(2**size,size))))\n",
        "def create_noiseless_network(size):\n",
        "  return pyphi.Network(np.random.randint(0,2,(2**size,size)))"
      ],
      "metadata": {
        "id": "tr-ILUA84f9h"
      },
      "execution_count": 4,
      "outputs": []
    }
  ]
}