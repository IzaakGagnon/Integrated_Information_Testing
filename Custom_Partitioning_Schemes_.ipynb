{
  "nbformat": 4,
  "nbformat_minor": 0,
  "metadata": {
    "colab": {
      "provenance": [],
      "authorship_tag": "ABX9TyP00CtMj8GcwxZ1lye7xmYY",
      "include_colab_link": true
    },
    "kernelspec": {
      "name": "python3",
      "display_name": "Python 3"
    },
    "language_info": {
      "name": "python"
    }
  },
  "cells": [
    {
      "cell_type": "markdown",
      "metadata": {
        "id": "view-in-github",
        "colab_type": "text"
      },
      "source": [
        "<a href=\"https://colab.research.google.com/github/IzaakGagnon/Integrated_Information_Testing/blob/main/Custom_Partitioning_Schemes_.ipynb\" target=\"_parent\"><img src=\"https://colab.research.google.com/assets/colab-badge.svg\" alt=\"Open In Colab\"/></a>"
      ]
    },
    {
      "cell_type": "markdown",
      "source": [
        "Imports and Installs"
      ],
      "metadata": {
        "id": "cpcyW8Pg6MSA"
      }
    },
    {
      "cell_type": "code",
      "execution_count": 1,
      "metadata": {
        "colab": {
          "base_uri": "https://localhost:8080/"
        },
        "id": "Ocq2qqyV6GMl",
        "outputId": "c807e402-1573-4e3c-ae56-d125159026ea"
      },
      "outputs": [
        {
          "output_type": "stream",
          "name": "stdout",
          "text": [
            "Collecting git+https://github.com/wmayner/pyphi.git@feature/iit-4.0\n",
            "  Cloning https://github.com/wmayner/pyphi.git (to revision feature/iit-4.0) to /tmp/pip-req-build-6__myjwi\n",
            "  Running command git clone --filter=blob:none --quiet https://github.com/wmayner/pyphi.git /tmp/pip-req-build-6__myjwi\n",
            "  Resolved https://github.com/wmayner/pyphi.git to commit 6b83cbdbbcdca75289415fe096adbac5f2ec7a4d\n",
            "  Installing build dependencies ... \u001b[?25l\u001b[?25hdone\n",
            "  Getting requirements to build wheel ... \u001b[?25l\u001b[?25hdone\n",
            "  Preparing metadata (pyproject.toml) ... \u001b[?25l\u001b[?25hdone\n",
            "Requirement already satisfied: Graphillion>=1.5 in /usr/local/lib/python3.10/dist-packages (from pyphi==1.2.0) (1.7)\n",
            "Requirement already satisfied: igraph>=0.9.10 in /usr/local/lib/python3.10/dist-packages (from pyphi==1.2.0) (0.11.5)\n",
            "Requirement already satisfied: joblib>=0.8.0 in /usr/local/lib/python3.10/dist-packages (from pyphi==1.2.0) (1.4.2)\n",
            "Requirement already satisfied: more-itertools>=8.13.0 in /usr/local/lib/python3.10/dist-packages (from pyphi==1.2.0) (10.1.0)\n",
            "Requirement already satisfied: networkx>=2.6.2 in /usr/local/lib/python3.10/dist-packages (from pyphi==1.2.0) (3.3)\n",
            "Requirement already satisfied: numpy>=1.11.0 in /usr/local/lib/python3.10/dist-packages (from pyphi==1.2.0) (1.25.2)\n",
            "Requirement already satisfied: ordered-set>=4.0.2 in /usr/local/lib/python3.10/dist-packages (from pyphi==1.2.0) (4.1.0)\n",
            "Requirement already satisfied: pandas>=2.0.0 in /usr/local/lib/python3.10/dist-packages (from pyphi==1.2.0) (2.0.3)\n",
            "Requirement already satisfied: plotly>=5.8.2 in /usr/local/lib/python3.10/dist-packages (from pyphi==1.2.0) (5.15.0)\n",
            "Requirement already satisfied: psutil>=2.1.1 in /usr/local/lib/python3.10/dist-packages (from pyphi==1.2.0) (5.9.5)\n",
            "Requirement already satisfied: pyemd>=0.3.0 in /usr/local/lib/python3.10/dist-packages (from pyphi==1.2.0) (1.0.0)\n",
            "Requirement already satisfied: pyyaml>=3.13 in /usr/local/lib/python3.10/dist-packages (from pyphi==1.2.0) (6.0.1)\n",
            "Requirement already satisfied: ray[default]>=1.9.2 in /usr/local/lib/python3.10/dist-packages (from pyphi==1.2.0) (2.23.0)\n",
            "Requirement already satisfied: redis>=2.10.5 in /usr/local/lib/python3.10/dist-packages (from pyphi==1.2.0) (5.0.4)\n",
            "Requirement already satisfied: scipy>=0.13.3 in /usr/local/lib/python3.10/dist-packages (from pyphi==1.2.0) (1.11.4)\n",
            "Requirement already satisfied: tblib>=1.3.2 in /usr/local/lib/python3.10/dist-packages (from pyphi==1.2.0) (3.0.0)\n",
            "Requirement already satisfied: toolz>=0.9.0 in /usr/local/lib/python3.10/dist-packages (from pyphi==1.2.0) (0.12.1)\n",
            "Requirement already satisfied: tqdm>=4.20.0 in /usr/local/lib/python3.10/dist-packages (from pyphi==1.2.0) (4.66.4)\n",
            "Requirement already satisfied: future in /usr/local/lib/python3.10/dist-packages (from Graphillion>=1.5->pyphi==1.2.0) (0.18.3)\n",
            "Requirement already satisfied: texttable>=1.6.2 in /usr/local/lib/python3.10/dist-packages (from igraph>=0.9.10->pyphi==1.2.0) (1.7.0)\n",
            "Requirement already satisfied: python-dateutil>=2.8.2 in /usr/local/lib/python3.10/dist-packages (from pandas>=2.0.0->pyphi==1.2.0) (2.8.2)\n",
            "Requirement already satisfied: pytz>=2020.1 in /usr/local/lib/python3.10/dist-packages (from pandas>=2.0.0->pyphi==1.2.0) (2023.4)\n",
            "Requirement already satisfied: tzdata>=2022.1 in /usr/local/lib/python3.10/dist-packages (from pandas>=2.0.0->pyphi==1.2.0) (2024.1)\n",
            "Requirement already satisfied: tenacity>=6.2.0 in /usr/local/lib/python3.10/dist-packages (from plotly>=5.8.2->pyphi==1.2.0) (8.3.0)\n",
            "Requirement already satisfied: packaging in /usr/local/lib/python3.10/dist-packages (from plotly>=5.8.2->pyphi==1.2.0) (24.0)\n",
            "Requirement already satisfied: click>=7.0 in /usr/local/lib/python3.10/dist-packages (from ray[default]>=1.9.2->pyphi==1.2.0) (8.1.7)\n",
            "Requirement already satisfied: filelock in /usr/local/lib/python3.10/dist-packages (from ray[default]>=1.9.2->pyphi==1.2.0) (3.14.0)\n",
            "Requirement already satisfied: jsonschema in /usr/local/lib/python3.10/dist-packages (from ray[default]>=1.9.2->pyphi==1.2.0) (4.19.2)\n",
            "Requirement already satisfied: msgpack<2.0.0,>=1.0.0 in /usr/local/lib/python3.10/dist-packages (from ray[default]>=1.9.2->pyphi==1.2.0) (1.0.8)\n",
            "Requirement already satisfied: protobuf!=3.19.5,>=3.15.3 in /usr/local/lib/python3.10/dist-packages (from ray[default]>=1.9.2->pyphi==1.2.0) (3.20.3)\n",
            "Requirement already satisfied: aiosignal in /usr/local/lib/python3.10/dist-packages (from ray[default]>=1.9.2->pyphi==1.2.0) (1.3.1)\n",
            "Requirement already satisfied: frozenlist in /usr/local/lib/python3.10/dist-packages (from ray[default]>=1.9.2->pyphi==1.2.0) (1.4.1)\n",
            "Requirement already satisfied: requests in /usr/local/lib/python3.10/dist-packages (from ray[default]>=1.9.2->pyphi==1.2.0) (2.31.0)\n",
            "Requirement already satisfied: aiohttp>=3.7 in /usr/local/lib/python3.10/dist-packages (from ray[default]>=1.9.2->pyphi==1.2.0) (3.9.5)\n",
            "Requirement already satisfied: aiohttp-cors in /usr/local/lib/python3.10/dist-packages (from ray[default]>=1.9.2->pyphi==1.2.0) (0.7.0)\n",
            "Requirement already satisfied: colorful in /usr/local/lib/python3.10/dist-packages (from ray[default]>=1.9.2->pyphi==1.2.0) (0.5.6)\n",
            "Requirement already satisfied: py-spy>=0.2.0 in /usr/local/lib/python3.10/dist-packages (from ray[default]>=1.9.2->pyphi==1.2.0) (0.3.14)\n",
            "Requirement already satisfied: opencensus in /usr/local/lib/python3.10/dist-packages (from ray[default]>=1.9.2->pyphi==1.2.0) (0.11.4)\n",
            "Requirement already satisfied: pydantic!=2.0.*,!=2.1.*,!=2.2.*,!=2.3.*,!=2.4.*,<3 in /usr/local/lib/python3.10/dist-packages (from ray[default]>=1.9.2->pyphi==1.2.0) (2.7.2)\n",
            "Requirement already satisfied: prometheus-client>=0.7.1 in /usr/local/lib/python3.10/dist-packages (from ray[default]>=1.9.2->pyphi==1.2.0) (0.20.0)\n",
            "Requirement already satisfied: smart-open in /usr/local/lib/python3.10/dist-packages (from ray[default]>=1.9.2->pyphi==1.2.0) (6.4.0)\n",
            "Requirement already satisfied: virtualenv!=20.21.1,>=20.0.24 in /usr/local/lib/python3.10/dist-packages (from ray[default]>=1.9.2->pyphi==1.2.0) (20.26.2)\n",
            "Requirement already satisfied: grpcio>=1.42.0 in /usr/local/lib/python3.10/dist-packages (from ray[default]>=1.9.2->pyphi==1.2.0) (1.64.0)\n",
            "Requirement already satisfied: memray in /usr/local/lib/python3.10/dist-packages (from ray[default]>=1.9.2->pyphi==1.2.0) (1.12.0)\n",
            "Requirement already satisfied: async-timeout>=4.0.3 in /usr/local/lib/python3.10/dist-packages (from redis>=2.10.5->pyphi==1.2.0) (4.0.3)\n",
            "Requirement already satisfied: attrs>=17.3.0 in /usr/local/lib/python3.10/dist-packages (from aiohttp>=3.7->ray[default]>=1.9.2->pyphi==1.2.0) (23.2.0)\n",
            "Requirement already satisfied: multidict<7.0,>=4.5 in /usr/local/lib/python3.10/dist-packages (from aiohttp>=3.7->ray[default]>=1.9.2->pyphi==1.2.0) (6.0.5)\n",
            "Requirement already satisfied: yarl<2.0,>=1.0 in /usr/local/lib/python3.10/dist-packages (from aiohttp>=3.7->ray[default]>=1.9.2->pyphi==1.2.0) (1.9.4)\n",
            "Requirement already satisfied: annotated-types>=0.4.0 in /usr/local/lib/python3.10/dist-packages (from pydantic!=2.0.*,!=2.1.*,!=2.2.*,!=2.3.*,!=2.4.*,<3->ray[default]>=1.9.2->pyphi==1.2.0) (0.7.0)\n",
            "Requirement already satisfied: pydantic-core==2.18.3 in /usr/local/lib/python3.10/dist-packages (from pydantic!=2.0.*,!=2.1.*,!=2.2.*,!=2.3.*,!=2.4.*,<3->ray[default]>=1.9.2->pyphi==1.2.0) (2.18.3)\n",
            "Requirement already satisfied: typing-extensions>=4.6.1 in /usr/local/lib/python3.10/dist-packages (from pydantic!=2.0.*,!=2.1.*,!=2.2.*,!=2.3.*,!=2.4.*,<3->ray[default]>=1.9.2->pyphi==1.2.0) (4.12.0)\n",
            "Requirement already satisfied: six>=1.5 in /usr/local/lib/python3.10/dist-packages (from python-dateutil>=2.8.2->pandas>=2.0.0->pyphi==1.2.0) (1.16.0)\n",
            "Requirement already satisfied: distlib<1,>=0.3.7 in /usr/local/lib/python3.10/dist-packages (from virtualenv!=20.21.1,>=20.0.24->ray[default]>=1.9.2->pyphi==1.2.0) (0.3.8)\n",
            "Requirement already satisfied: platformdirs<5,>=3.9.1 in /usr/local/lib/python3.10/dist-packages (from virtualenv!=20.21.1,>=20.0.24->ray[default]>=1.9.2->pyphi==1.2.0) (4.2.2)\n",
            "Requirement already satisfied: jsonschema-specifications>=2023.03.6 in /usr/local/lib/python3.10/dist-packages (from jsonschema->ray[default]>=1.9.2->pyphi==1.2.0) (2023.12.1)\n",
            "Requirement already satisfied: referencing>=0.28.4 in /usr/local/lib/python3.10/dist-packages (from jsonschema->ray[default]>=1.9.2->pyphi==1.2.0) (0.35.1)\n",
            "Requirement already satisfied: rpds-py>=0.7.1 in /usr/local/lib/python3.10/dist-packages (from jsonschema->ray[default]>=1.9.2->pyphi==1.2.0) (0.18.1)\n",
            "Requirement already satisfied: jinja2>=2.9 in /usr/local/lib/python3.10/dist-packages (from memray->ray[default]>=1.9.2->pyphi==1.2.0) (3.1.4)\n",
            "Requirement already satisfied: rich>=11.2.0 in /usr/local/lib/python3.10/dist-packages (from memray->ray[default]>=1.9.2->pyphi==1.2.0) (13.7.1)\n",
            "Requirement already satisfied: textual>=0.41.0 in /usr/local/lib/python3.10/dist-packages (from memray->ray[default]>=1.9.2->pyphi==1.2.0) (0.64.0)\n",
            "Requirement already satisfied: opencensus-context>=0.1.3 in /usr/local/lib/python3.10/dist-packages (from opencensus->ray[default]>=1.9.2->pyphi==1.2.0) (0.1.3)\n",
            "Requirement already satisfied: google-api-core<3.0.0,>=1.0.0 in /usr/local/lib/python3.10/dist-packages (from opencensus->ray[default]>=1.9.2->pyphi==1.2.0) (2.11.1)\n",
            "Requirement already satisfied: charset-normalizer<4,>=2 in /usr/local/lib/python3.10/dist-packages (from requests->ray[default]>=1.9.2->pyphi==1.2.0) (3.3.2)\n",
            "Requirement already satisfied: idna<4,>=2.5 in /usr/local/lib/python3.10/dist-packages (from requests->ray[default]>=1.9.2->pyphi==1.2.0) (3.7)\n",
            "Requirement already satisfied: urllib3<3,>=1.21.1 in /usr/local/lib/python3.10/dist-packages (from requests->ray[default]>=1.9.2->pyphi==1.2.0) (2.0.7)\n",
            "Requirement already satisfied: certifi>=2017.4.17 in /usr/local/lib/python3.10/dist-packages (from requests->ray[default]>=1.9.2->pyphi==1.2.0) (2024.2.2)\n",
            "Requirement already satisfied: googleapis-common-protos<2.0.dev0,>=1.56.2 in /usr/local/lib/python3.10/dist-packages (from google-api-core<3.0.0,>=1.0.0->opencensus->ray[default]>=1.9.2->pyphi==1.2.0) (1.63.0)\n",
            "Requirement already satisfied: google-auth<3.0.dev0,>=2.14.1 in /usr/local/lib/python3.10/dist-packages (from google-api-core<3.0.0,>=1.0.0->opencensus->ray[default]>=1.9.2->pyphi==1.2.0) (2.27.0)\n",
            "Requirement already satisfied: MarkupSafe>=2.0 in /usr/local/lib/python3.10/dist-packages (from jinja2>=2.9->memray->ray[default]>=1.9.2->pyphi==1.2.0) (2.1.5)\n",
            "Requirement already satisfied: markdown-it-py>=2.2.0 in /usr/local/lib/python3.10/dist-packages (from rich>=11.2.0->memray->ray[default]>=1.9.2->pyphi==1.2.0) (3.0.0)\n",
            "Requirement already satisfied: pygments<3.0.0,>=2.13.0 in /usr/local/lib/python3.10/dist-packages (from rich>=11.2.0->memray->ray[default]>=1.9.2->pyphi==1.2.0) (2.16.1)\n",
            "Requirement already satisfied: cachetools<6.0,>=2.0.0 in /usr/local/lib/python3.10/dist-packages (from google-auth<3.0.dev0,>=2.14.1->google-api-core<3.0.0,>=1.0.0->opencensus->ray[default]>=1.9.2->pyphi==1.2.0) (5.3.3)\n",
            "Requirement already satisfied: pyasn1-modules>=0.2.1 in /usr/local/lib/python3.10/dist-packages (from google-auth<3.0.dev0,>=2.14.1->google-api-core<3.0.0,>=1.0.0->opencensus->ray[default]>=1.9.2->pyphi==1.2.0) (0.4.0)\n",
            "Requirement already satisfied: rsa<5,>=3.1.4 in /usr/local/lib/python3.10/dist-packages (from google-auth<3.0.dev0,>=2.14.1->google-api-core<3.0.0,>=1.0.0->opencensus->ray[default]>=1.9.2->pyphi==1.2.0) (4.9)\n",
            "Requirement already satisfied: mdurl~=0.1 in /usr/local/lib/python3.10/dist-packages (from markdown-it-py>=2.2.0->rich>=11.2.0->memray->ray[default]>=1.9.2->pyphi==1.2.0) (0.1.2)\n",
            "Requirement already satisfied: linkify-it-py<3,>=1 in /usr/local/lib/python3.10/dist-packages (from markdown-it-py>=2.2.0->rich>=11.2.0->memray->ray[default]>=1.9.2->pyphi==1.2.0) (2.0.3)\n",
            "Requirement already satisfied: mdit-py-plugins in /usr/local/lib/python3.10/dist-packages (from markdown-it-py>=2.2.0->rich>=11.2.0->memray->ray[default]>=1.9.2->pyphi==1.2.0) (0.4.1)\n",
            "Requirement already satisfied: uc-micro-py in /usr/local/lib/python3.10/dist-packages (from linkify-it-py<3,>=1->markdown-it-py>=2.2.0->rich>=11.2.0->memray->ray[default]>=1.9.2->pyphi==1.2.0) (1.0.3)\n",
            "Requirement already satisfied: pyasn1<0.7.0,>=0.4.6 in /usr/local/lib/python3.10/dist-packages (from pyasn1-modules>=0.2.1->google-auth<3.0.dev0,>=2.14.1->google-api-core<3.0.0,>=1.0.0->opencensus->ray[default]>=1.9.2->pyphi==1.2.0) (0.6.0)\n",
            "\n",
            "Welcome to PyPhi!\n",
            "\n",
            "If you use PyPhi in your research, please cite the paper:\n",
            "\n",
            "  Mayner WGP, Marshall W, Albantakis L, Findlay G, Marchman R, Tononi G.\n",
            "  (2018). PyPhi: A toolbox for integrated information theory.\n",
            "  PLOS Computational Biology 14(7): e1006343.\n",
            "  https://doi.org/10.1371/journal.pcbi.1006343\n",
            "\n",
            "Documentation is available online (or with the built-in `help()` function):\n",
            "  https://pyphi.readthedocs.io\n",
            "\n",
            "To report issues, please use the issue tracker on the GitHub repository:\n",
            "  https://github.com/wmayner/pyphi\n",
            "\n",
            "For general discussion, you are welcome to join the pyphi-users group:\n",
            "  https://groups.google.com/forum/#!forum/pyphi-users\n",
            "\n",
            "To suppress this message, either:\n",
            "  - Set `WELCOME_OFF: true` in your `pyphi_config.yml` file, or\n",
            "  - Set the environment variable PYPHI_WELCOME_OFF to any value in your shell:\n",
            "        export PYPHI_WELCOME_OFF='yes'\n",
            "\n"
          ]
        }
      ],
      "source": [
        "!python -m pip install -U git+https://github.com/wmayner/pyphi.git@feature/iit-4.0\n",
        "import numpy as np\n",
        "import pyphi\n",
        "import random\n",
        "import time\n",
        "pyphi.config.PROGRESS_BARS = False\n",
        "pyphi.config.PARALLEL = False\n",
        "pyphi.config.SHORTCIRCUIT_SIA = False\n",
        "pyphi.config.WELCOME_OFF = True\n",
        "pyphi.config.REPERTOIRE_DISTANCE = \"GENERALIZED_INTRINSIC_DIFFERENCE\""
      ]
    },
    {
      "cell_type": "code",
      "source": [
        "import functools\n",
        "import itertools\n",
        "from itertools import chain, product\n",
        "import numpy as np\n",
        "from more_itertools import distinct_permutations\n",
        "from toolz import unique\n",
        "from pyphi import combinatorics\n",
        "from pyphi.cache import cache\n",
        "from pyphi.conf import config, fallback\n",
        "from pyphi.direction import Direction\n",
        "from pyphi.models.cuts import (\n",
        "    Bipartition,\n",
        "    CompleteGeneralKCut,\n",
        "    CompleteGeneralSetPartition,\n",
        "    Cut,\n",
        "    GeneralKCut,\n",
        "    GeneralSetPartition,\n",
        "    KPartition,\n",
        "    Part,\n",
        "    SystemPartition,\n",
        "    Tripartition,\n",
        ")\n",
        "from pyphi.partition import system_partition_types\n",
        "from pyphi.registry import Registry\n",
        "from itertools import combinations"
      ],
      "metadata": {
        "id": "UVB69CvR6OrI"
      },
      "execution_count": 2,
      "outputs": []
    },
    {
      "cell_type": "markdown",
      "source": [
        "The generator of all unique k-partitions"
      ],
      "metadata": {
        "id": "-HbSLTxQ6SdX"
      }
    },
    {
      "cell_type": "code",
      "source": [
        "def gen_seqs(partition):\n",
        "    n = len(partition)\n",
        "    elements = [0,1,2]\n",
        "    all_sequences = itertools.product(elements, repeat=n)\n",
        "    valid_sequences = [seq for seq in all_sequences if 0 in seq and 1 in seq]\n",
        "    all_twos_sequence = (2,) * n\n",
        "    valid_sequences.append(all_twos_sequence)\n",
        "    return valid_sequences\n",
        "@system_partition_types.register(\"ALL_K-PARTITIONS\")\n",
        "def generate_all_partitions(node_indices, node_labels=None):\n",
        "  if len(node_indices) == 1 or config.SYSTEM_PARTITION_INCLUDE_COMPLETE:\n",
        "        yield CompleteGeneralSetPartition(node_indices, node_labels=node_labels)\n",
        "  _node_indices = set(range(len(node_indices)))\n",
        "  for partition in combinatorics.set_partitions(_node_indices, nontrivial=True):\n",
        "    for s in gen_seqs(partition):\n",
        "      cm = seq_2_cm(s, partition,_node_indices)\n",
        "      yield GeneralSetPartition(\n",
        "                node_indices,\n",
        "                cm,\n",
        "                node_labels=node_labels,\n",
        "                set_partition=partition,\n",
        "            )"
      ],
      "metadata": {
        "id": "xDeM3G1v6dTO"
      },
      "execution_count": 28,
      "outputs": []
    },
    {
      "cell_type": "markdown",
      "source": [
        "The generator of all unique bi-partitions:"
      ],
      "metadata": {
        "id": "V3jz1bv9EQUv"
      }
    },
    {
      "cell_type": "code",
      "source": [
        "def seq_2_cm(seq, partition,_node_indices):\n",
        "  cut_matrix = np.zeros([len(_node_indices), len(_node_indices)], dtype=int)\n",
        "  c = 0\n",
        "  for part in partition:\n",
        "    nonpart = list(_node_indices - set(part))\n",
        "    if seq[c] == 0:                 ### If we are cutting the part's inputs\n",
        "      source, target = nonpart, part\n",
        "    else:                           ### If we are cutting the part's outputs\n",
        "      source, target = part, nonpart\n",
        "    cut_matrix[np.ix_(source, target)] = 1\n",
        "    if seq[c] == 2:                 ### If we are cutting both inputs and outputs\n",
        "      cut_matrix[np.ix_(target, source)] = 1\n",
        "    c +=1\n",
        "  return cut_matrix\n",
        "def bipartitions(collection):\n",
        "    collection = list(collection)\n",
        "    n = len(collection)\n",
        "    # Special case: no bipartitions possible if the collection has fewer than 2 elements\n",
        "    if n < 2:\n",
        "        return\n",
        "    # Generate all combinations for the first subset of size from 1 to n-1\n",
        "    for i in range(1, n):\n",
        "        for first_subset in combinations(collection, i):\n",
        "            second_subset = [item for item in collection if item not in first_subset]\n",
        "            yield [list(first_subset), second_subset]\n",
        "\n",
        "@system_partition_types.register(\"ALL_BI-PARTITIONS\")\n",
        "def generate_all_partitions(node_indices, node_labels=None):\n",
        "  if len(node_indices) == 1 or config.SYSTEM_PARTITION_INCLUDE_COMPLETE:\n",
        "        yield CompleteGeneralSetPartition(node_indices, node_labels=node_labels)\n",
        "  _node_indices = set(range(len(node_indices)))\n",
        "  for partition in bipartitions(_node_indices):\n",
        "    for s in gen_seqs(partition):\n",
        "      cm = seq_2_cm(s, partition,_node_indices)\n",
        "      yield GeneralSetPartition(\n",
        "                node_indices,\n",
        "                cm,\n",
        "                node_labels=node_labels,\n",
        "                set_partition=partition,\n",
        "            )"
      ],
      "metadata": {
        "id": "ICO9lZqkEqaq"
      },
      "execution_count": 29,
      "outputs": []
    },
    {
      "cell_type": "markdown",
      "source": [
        "Random K-Partition Generator"
      ],
      "metadata": {
        "id": "VwVThZtOORau"
      }
    },
    {
      "cell_type": "code",
      "source": [
        "def stirling2(n,k):\n",
        "    n1=n\n",
        "    k1=k\n",
        "    if n<=0:\n",
        "        return 1\n",
        "    elif k<=0:\n",
        "        return 0\n",
        "    elif (n==0 and k==0):\n",
        "        return -1\n",
        "    elif n!=0 and n==k:\n",
        "        return 1\n",
        "    elif n<k:\n",
        "        return 0\n",
        "    else:\n",
        "        temp1=stirling2(n1-1,k1)\n",
        "        temp1=k1*temp1\n",
        "        return (k1*(stirling2(n1-1,k1)))+stirling2(n1-1,k1-1)\n",
        "def total_partition_count(size):\n",
        "  a = 0\n",
        "  for i in range(1,size + 1):\n",
        "    a += stirling2(size,i) * ( 3**i - 2**(i + 1) + 2)\n",
        "  return a\n",
        "@system_partition_types.register(\"RANDOM_K_PARTITIONS\")\n",
        "def generate_random_partitions(node_indices, node_labels=None):\n",
        "  if len(node_indices) == 1 or config.SYSTEM_PARTITION_INCLUDE_COMPLETE:\n",
        "        yield CompleteGeneralSetPartition(node_indices, node_labels=node_labels)\n",
        "  _node_indices = set(range(len(node_indices)))\n",
        "  total = total_partition_count(len(_node_indices))\n",
        "  count = 0\n",
        "  sample = random.sample(range(0,total + 1),n)\n",
        "  for partition in combinatorics.set_partitions(_node_indices, nontrivial=True):\n",
        "    for s in gen_seqs(partition):\n",
        "      if count in sample:\n",
        "        cm = seq_2_cm(s, partition,_node_indices)\n",
        "        yield GeneralSetPartition(\n",
        "                  node_indices,\n",
        "                  cm,\n",
        "                  node_labels=node_labels,\n",
        "                  set_partition=partition,)\n",
        "      count +=1"
      ],
      "metadata": {
        "id": "HD0hvXDxOPuX"
      },
      "execution_count": 30,
      "outputs": []
    },
    {
      "cell_type": "markdown",
      "source": [
        "Random Bi-Partition Generator"
      ],
      "metadata": {
        "id": "xxZJnt6XVZQg"
      }
    },
    {
      "cell_type": "code",
      "source": [
        "def total_bipartition_count(size):\n",
        "  return stirling2(size,2)*3\n",
        "@system_partition_types.register(\"RANDOM_BI_PARTITIONS\")\n",
        "def generate_random_bipartitions(node_indices, node_labels=None):\n",
        "  if len(node_indices) == 1 or config.SYSTEM_PARTITION_INCLUDE_COMPLETE:\n",
        "        yield CompleteGeneralSetPartition(node_indices, node_labels=node_labels)\n",
        "  _node_indices = set(range(len(node_indices)))\n",
        "  total = total_bipartition_count(len(_node_indices))\n",
        "  count = 0\n",
        "  sample = random.sample(range(0,total + 1),n)\n",
        "  for partition in bipartitions(_node_indices):\n",
        "    for s in gen_seqs(partition):\n",
        "      if count in sample:\n",
        "        cm = seq_2_cm(s, partition,_node_indices)\n",
        "        yield GeneralSetPartition(\n",
        "                  node_indices,\n",
        "                  cm,\n",
        "                  node_labels=node_labels,\n",
        "                  set_partition=partition,)\n",
        "      count +=1"
      ],
      "metadata": {
        "id": "cPu2lvHfUoI2"
      },
      "execution_count": 31,
      "outputs": []
    },
    {
      "cell_type": "markdown",
      "source": [
        "Network Generating Functions\n"
      ],
      "metadata": {
        "id": "ms670E2BWUGS"
      }
    },
    {
      "cell_type": "code",
      "source": [
        "#### NETWORK GENERATING FUNCTIONS\n",
        "def normalize_rows(matrix):\n",
        "    ### Scales probabilities in a matrix so that they satisfy the markov property. Proof that CI still holds not completed yet\n",
        "    num_rows = matrix.shape[0]\n",
        "    normalized_matrix = np.zeros_like(matrix)  # Create an empty matrix of the same shape\n",
        "    for i in range(num_rows):\n",
        "        row = matrix[i, :]\n",
        "        current_sum = np.sum(row)\n",
        "        if current_sum > 0:\n",
        "            scaling_factor = 1.0 / current_sum\n",
        "            normalized_row = row * scaling_factor\n",
        "            normalized_matrix[i, :] = normalized_row\n",
        "        else: print(\"Zero_Sum_Error: Problem With Values Generated\")\n",
        "    return normalized_matrix\n",
        "def create_noisy_network(size):\n",
        "    ### Obtains a random network of nodes of a given size, directly ready for computing Phi.\n",
        "    return pyphi.Network(normalize_rows(pyphi.convert.state_by_node2state_by_state(np.random.rand(2**size,size))))\n",
        "def create_noiseless_network(size):\n",
        "  return pyphi.Network(np.random.randint(0,2,(2**size,size)))"
      ],
      "metadata": {
        "id": "8C2ROXdSWTbw"
      },
      "execution_count": 32,
      "outputs": []
    },
    {
      "cell_type": "markdown",
      "source": [
        "Testing Each Partition Type:"
      ],
      "metadata": {
        "id": "1TbsPgltWf7c"
      }
    },
    {
      "cell_type": "code",
      "source": [
        "size = 4\n",
        "network = create_noisy_network(size)\n",
        "state = [np.random.choice([0, 1]) for i in range(size)]\n",
        "subsystem_cause = pyphi.Subsystem(network,state,backward_tpm=True)\n",
        "subsystem_effect = pyphi.Subsystem(network,state,backward_tpm=False)\n",
        "\n",
        "pyphi.config.SYSTEM_PARTITION_TYPE = \"SET_UNI/BI\"\n",
        "s = time.time()\n",
        "sia = pyphi.backwards.sia(subsystem_cause,subsystem_effect)\n",
        "f = time.time()\n",
        "print(sia)\n",
        "print(f - s, \"Seconds\")\n",
        "\n",
        "pyphi.config.SYSTEM_PARTITION_TYPE = \"ALL_K-PARTITIONS\"\n",
        "s = time.time()\n",
        "sia = pyphi.backwards.sia(subsystem_cause,subsystem_effect)\n",
        "f = time.time()\n",
        "print(sia)\n",
        "print(f - s, \"Seconds\")\n",
        "\n",
        "pyphi.config.SYSTEM_PARTITION_TYPE = \"ALL_BI-PARTITIONS\"\n",
        "s = time.time()\n",
        "sia = pyphi.backwards.sia(subsystem_cause,subsystem_effect)\n",
        "f = time.time()\n",
        "print(sia)\n",
        "print(f - s, \"Seconds\")\n",
        "\n",
        "pyphi.config.SYSTEM_PARTITION_TYPE = \"RANDOM_K_PARTITIONS\"\n",
        "n = 10\n",
        "s = time.time()\n",
        "sia = pyphi.backwards.sia(subsystem_cause,subsystem_effect)\n",
        "f = time.time()\n",
        "print(sia)\n",
        "print(f - s, \"Seconds\")\n",
        "\n",
        "pyphi.config.SYSTEM_PARTITION_TYPE = \"RANDOM_BI_PARTITIONS\"\n",
        "n = 10\n",
        "s = time.time()\n",
        "sia = pyphi.backwards.sia(subsystem_cause,subsystem_effect)\n",
        "f = time.time()\n",
        "print(sia)\n",
        "print(f - s, \"Seconds\")"
      ],
      "metadata": {
        "colab": {
          "base_uri": "https://localhost:8080/"
        },
        "id": "jxDHi2dmWaBZ",
        "outputId": "a866d8b6-be56-4902-ad9f-6e52a72dade7"
      },
      "execution_count": 36,
      "outputs": [
        {
          "output_type": "stream",
          "name": "stdout",
          "text": [
            "┌──────────────────────────────────────┐\n",
            "│     SystemIrreducibilityAnalysis     │\n",
            "│ ━━━━━━━━━━━━━━━━━━━━━━━━━━━━━━━━━━━━ │\n",
            "│      Subsystem:  n0,n1,n2,n3         │\n",
            "│  Current state:  (0,0,0,1)           │\n",
            "│            φ_s: 0.02684880305592458  │\n",
            "│ Normalized φ_s: 0.008949601018641526 │\n",
            "│          CAUSE:  (1,0,1,0)           │\n",
            "│           II_c: 0.7977695002692182   │\n",
            "│         EFFECT:  (1,0,0,0)           │\n",
            "│           II_e: 0.46048472235595483  │\n",
            "│   #(tied MIPs): 0                    │\n",
            "│      Partition:                      │\n",
            "│                 2 parts: {n0,n1n2n3} │\n",
            "│                 [[0 0 0 0]           │\n",
            "│                  [1 0 0 0]           │\n",
            "│                  [1 0 0 0]           │\n",
            "│                  [1 0 0 0]]          │\n",
            "└──────────────────────────────────────┘\n",
            "2.1248443126678467 Seconds\n",
            "┌──────────────────────────────────────┐\n",
            "│     SystemIrreducibilityAnalysis     │\n",
            "│ ━━━━━━━━━━━━━━━━━━━━━━━━━━━━━━━━━━━━ │\n",
            "│      Subsystem:  n0,n1,n2,n3         │\n",
            "│  Current state:  (0,0,0,1)           │\n",
            "│            φ_s: 0.02684880305592458  │\n",
            "│ Normalized φ_s: 0.008949601018641526 │\n",
            "│          CAUSE:  (1,0,1,0)           │\n",
            "│           II_c: 0.7977695002692182   │\n",
            "│         EFFECT:  (1,0,0,0)           │\n",
            "│           II_e: 0.46048472235595483  │\n",
            "│   #(tied MIPs): 0                    │\n",
            "│      Partition:                      │\n",
            "│                 2 parts: {n0,n1n2n3} │\n",
            "│                 [[0 0 0 0]           │\n",
            "│                  [1 0 0 0]           │\n",
            "│                  [1 0 0 0]           │\n",
            "│                  [1 0 0 0]]          │\n",
            "└──────────────────────────────────────┘\n",
            "2.101595163345337 Seconds\n",
            "┌──────────────────────────────────────┐\n",
            "│     SystemIrreducibilityAnalysis     │\n",
            "│ ━━━━━━━━━━━━━━━━━━━━━━━━━━━━━━━━━━━━ │\n",
            "│      Subsystem:  n0,n1,n2,n3         │\n",
            "│  Current state:  (0,0,0,1)           │\n",
            "│            φ_s: 0.02684880305592458  │\n",
            "│ Normalized φ_s: 0.008949601018641526 │\n",
            "│          CAUSE:  (1,0,1,0)           │\n",
            "│           II_c: 0.7977695002692182   │\n",
            "│         EFFECT:  (1,0,0,0)           │\n",
            "│           II_e: 0.46048472235595483  │\n",
            "│   #(tied MIPs): 1                    │\n",
            "│      Partition:                      │\n",
            "│                 2 parts: {n0,n1n2n3} │\n",
            "│                 [[0 0 0 0]           │\n",
            "│                  [1 0 0 0]           │\n",
            "│                  [1 0 0 0]           │\n",
            "│                  [1 0 0 0]]          │\n",
            "└──────────────────────────────────────┘\n",
            "0.6245322227478027 Seconds\n",
            "┌───────────────────────────────────────┐\n",
            "│     SystemIrreducibilityAnalysis      │\n",
            "│ ━━━━━━━━━━━━━━━━━━━━━━━━━━━━━━━━━━━   │\n",
            "│      Subsystem:  n0,n1,n2,n3          │\n",
            "│  Current state:  (0,0,0,1)            │\n",
            "│            φ_s: 0.11479447145406114   │\n",
            "│ Normalized φ_s: 0.01913241190901019   │\n",
            "│          CAUSE:  (1,0,1,0)            │\n",
            "│           II_c: 0.7977695002692182    │\n",
            "│         EFFECT:  (1,0,0,0)            │\n",
            "│           II_e: 0.46048472235595483   │\n",
            "│   #(tied MIPs): 0                     │\n",
            "│      Partition:                       │\n",
            "│                 3 parts: {n0,n2,n1n3} │\n",
            "│                 [[0 0 1 0]            │\n",
            "│                  [1 0 1 0]            │\n",
            "│                  [1 0 0 0]            │\n",
            "│                  [1 0 1 0]]           │\n",
            "└───────────────────────────────────────┘\n",
            "0.1474294662475586 Seconds\n",
            "┌──────────────────────────────────────┐\n",
            "│     SystemIrreducibilityAnalysis     │\n",
            "│ ━━━━━━━━━━━━━━━━━━━━━━━━━━━━━━━━━━━━ │\n",
            "│      Subsystem:  n0,n1,n2,n3         │\n",
            "│  Current state:  (0,0,0,1)           │\n",
            "│            φ_s: 0.02684880305592458  │\n",
            "│ Normalized φ_s: 0.008949601018641526 │\n",
            "│          CAUSE:  (1,0,1,0)           │\n",
            "│           II_c: 0.7977695002692182   │\n",
            "│         EFFECT:  (1,0,0,0)           │\n",
            "│           II_e: 0.46048472235595483  │\n",
            "│   #(tied MIPs): 0                    │\n",
            "│      Partition:                      │\n",
            "│                 2 parts: {n0,n1n2n3} │\n",
            "│                 [[0 0 0 0]           │\n",
            "│                  [1 0 0 0]           │\n",
            "│                  [1 0 0 0]           │\n",
            "│                  [1 0 0 0]]          │\n",
            "└──────────────────────────────────────┘\n",
            "0.1705005168914795 Seconds\n"
          ]
        }
      ]
    }
  ]
}